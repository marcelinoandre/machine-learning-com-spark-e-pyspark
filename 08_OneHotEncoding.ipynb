{
 "cells": [
  {
   "cell_type": "markdown",
   "metadata": {},
   "source": [
    "## One Hot Encoding:\n",
    "- Produz um único atributo de saída com uma matriz densa, a partir de n atributos numéricos\n",
    "- Espera atributos numéricos: Podemos usar StringIndexer para transformar\n"
   ]
  },
  {
   "cell_type": "code",
   "execution_count": 7,
   "metadata": {},
   "outputs": [
    {
     "data": {
      "text/html": [
       "\n",
       "            <div>\n",
       "                <p><b>SparkSession - in-memory</b></p>\n",
       "                \n",
       "        <div>\n",
       "            <p><b>SparkContext</b></p>\n",
       "\n",
       "            <p><a href=\"http://192.168.0.136:4040\">Spark UI</a></p>\n",
       "\n",
       "            <dl>\n",
       "              <dt>Version</dt>\n",
       "                <dd><code>v3.2.1</code></dd>\n",
       "              <dt>Master</dt>\n",
       "                <dd><code>local[*]</code></dd>\n",
       "              <dt>AppName</dt>\n",
       "                <dd><code>OneHotEncoding</code></dd>\n",
       "            </dl>\n",
       "        </div>\n",
       "        \n",
       "            </div>\n",
       "        "
      ],
      "text/plain": [
       "<pyspark.sql.session.SparkSession at 0x7f2170b3f0d0>"
      ]
     },
     "execution_count": 7,
     "metadata": {},
     "output_type": "execute_result"
    }
   ],
   "source": [
    "from pyspark.sql import SparkSession\n",
    "\n",
    "from pyspark.ml.feature import OneHotEncoder, StringIndexer\n",
    "\n",
    "spark = (\n",
    "    SparkSession\n",
    "    .builder\n",
    "    .appName('OneHotEncoding')\n",
    "    .getOrCreate()\n",
    ")\n",
    "spark"
   ]
  },
  {
   "cell_type": "code",
   "execution_count": 5,
   "metadata": {},
   "outputs": [
    {
     "name": "stderr",
     "output_type": "stream",
     "text": [
      "                                                                                \r"
     ]
    },
    {
     "name": "stdout",
     "output_type": "stream",
     "text": [
      "+-----------+---------+------+---+------+--------+-------------+---------+--------------+---------------+------+\n",
      "|CreditScore|Geography|Gender|Age|Tenure| Balance|NumOfProducts|HasCrCard|IsActiveMember|EstimatedSalary|Exited|\n",
      "+-----------+---------+------+---+------+--------+-------------+---------+--------------+---------------+------+\n",
      "|        619|   France|Female| 42|     2|       0|            1|        1|             1|       10134888|     1|\n",
      "|        608|    Spain|Female| 41|     1| 8380786|            1|        0|             1|       11254258|     0|\n",
      "|        502|   France|Female| 42|     8| 1596608|            3|        1|             0|       11393157|     1|\n",
      "|        699|   France|Female| 39|     1|       0|            2|        0|             0|        9382663|     0|\n",
      "|        850|    Spain|Female| 43|     2|12551082|            1|        1|             1|         790841|     0|\n",
      "+-----------+---------+------+---+------+--------+-------------+---------+--------------+---------------+------+\n",
      "only showing top 5 rows\n",
      "\n"
     ]
    }
   ],
   "source": [
    "df_churn = (\n",
    "    spark.read.format('csv')\n",
    "    .option('inferSchema', True)\n",
    "    .option('delimiter', ';')\n",
    "    .option('header', True)\n",
    "    .load('data/Churn.csv')\n",
    ")\n",
    "\n",
    "df_churn.show(5)"
   ]
  },
  {
   "cell_type": "code",
   "execution_count": 9,
   "metadata": {},
   "outputs": [
    {
     "name": "stdout",
     "output_type": "stream",
     "text": [
      "+-----------+---------+------+---+------+--------+-------------+---------+--------------+---------------+------+-------------+----------+\n",
      "|CreditScore|Geography|Gender|Age|Tenure| Balance|NumOfProducts|HasCrCard|IsActiveMember|EstimatedSalary|Exited|Geography_idx|Gender_idx|\n",
      "+-----------+---------+------+---+------+--------+-------------+---------+--------------+---------------+------+-------------+----------+\n",
      "|        619|   France|Female| 42|     2|       0|            1|        1|             1|       10134888|     1|          0.0|       1.0|\n",
      "|        608|    Spain|Female| 41|     1| 8380786|            1|        0|             1|       11254258|     0|          2.0|       1.0|\n",
      "|        502|   France|Female| 42|     8| 1596608|            3|        1|             0|       11393157|     1|          0.0|       1.0|\n",
      "|        699|   France|Female| 39|     1|       0|            2|        0|             0|        9382663|     0|          0.0|       1.0|\n",
      "|        850|    Spain|Female| 43|     2|12551082|            1|        1|             1|         790841|     0|          2.0|       1.0|\n",
      "+-----------+---------+------+---+------+--------+-------------+---------+--------------+---------------+------+-------------+----------+\n",
      "only showing top 5 rows\n",
      "\n"
     ]
    }
   ],
   "source": [
    "indexer = StringIndexer(\n",
    "    inputCols=['Geography', 'Gender'],\n",
    "    outputCols=['Geography_idx', 'Gender_idx'],\n",
    "    handleInvalid='keep'\n",
    ")\n",
    "\n",
    "model = indexer.fit(df_churn)\n",
    "\n",
    "df_churn_idx = model.transform(df_churn)\n",
    "df_churn_idx.show(5)"
   ]
  },
  {
   "cell_type": "code",
   "execution_count": 17,
   "metadata": {},
   "outputs": [],
   "source": [
    "onehot = OneHotEncoder(\n",
    "    inputCols=['Geography_idx', 'Gender_idx'],\n",
    "    outputCols=['onehot_c1', 'onehot_c2']\n",
    ").fit(df_churn_idx)\n",
    "\n"
   ]
  },
  {
   "cell_type": "code",
   "execution_count": 21,
   "metadata": {},
   "outputs": [
    {
     "name": "stdout",
     "output_type": "stream",
     "text": [
      "+---------+------+-------------+----------+-------------+-------------+\n",
      "|Geography|Gender|Geography_idx|Gender_idx|onehot_c1    |onehot_c2    |\n",
      "+---------+------+-------------+----------+-------------+-------------+\n",
      "|France   |Female|0.0          |1.0       |(3,[0],[1.0])|(2,[1],[1.0])|\n",
      "|Spain    |Female|2.0          |1.0       |(3,[2],[1.0])|(2,[1],[1.0])|\n",
      "|France   |Female|0.0          |1.0       |(3,[0],[1.0])|(2,[1],[1.0])|\n",
      "|France   |Female|0.0          |1.0       |(3,[0],[1.0])|(2,[1],[1.0])|\n",
      "|Spain    |Female|2.0          |1.0       |(3,[2],[1.0])|(2,[1],[1.0])|\n",
      "|Spain    |Male  |2.0          |0.0       |(3,[2],[1.0])|(2,[0],[1.0])|\n",
      "|France   |Male  |0.0          |0.0       |(3,[0],[1.0])|(2,[0],[1.0])|\n",
      "|Germany  |Female|1.0          |1.0       |(3,[1],[1.0])|(2,[1],[1.0])|\n",
      "|France   |Male  |0.0          |0.0       |(3,[0],[1.0])|(2,[0],[1.0])|\n",
      "|France   |Male  |0.0          |0.0       |(3,[0],[1.0])|(2,[0],[1.0])|\n",
      "|France   |Male  |0.0          |0.0       |(3,[0],[1.0])|(2,[0],[1.0])|\n",
      "|Spain    |Male  |2.0          |0.0       |(3,[2],[1.0])|(2,[0],[1.0])|\n",
      "|France   |Female|0.0          |1.0       |(3,[0],[1.0])|(2,[1],[1.0])|\n",
      "|France   |Female|0.0          |1.0       |(3,[0],[1.0])|(2,[1],[1.0])|\n",
      "|Spain    |Female|2.0          |1.0       |(3,[2],[1.0])|(2,[1],[1.0])|\n",
      "|Germany  |Male  |1.0          |0.0       |(3,[1],[1.0])|(2,[0],[1.0])|\n",
      "|Germany  |Male  |1.0          |0.0       |(3,[1],[1.0])|(2,[0],[1.0])|\n",
      "|Spain    |Female|2.0          |1.0       |(3,[2],[1.0])|(2,[1],[1.0])|\n",
      "|Spain    |Male  |2.0          |0.0       |(3,[2],[1.0])|(2,[0],[1.0])|\n",
      "|France   |Female|0.0          |1.0       |(3,[0],[1.0])|(2,[1],[1.0])|\n",
      "+---------+------+-------------+----------+-------------+-------------+\n",
      "only showing top 20 rows\n",
      "\n"
     ]
    }
   ],
   "source": [
    "(\n",
    "    onehot.transform(df_churn_idx)\n",
    "    .select('Geography', \n",
    "            'Gender', \n",
    "            'Geography_idx', \n",
    "            'Gender_idx',  \n",
    "            'onehot_c1',  \n",
    "            'onehot_c2'\n",
    "            )\n",
    "    .show(truncate=False)\n",
    ")"
   ]
  }
 ],
 "metadata": {
  "interpreter": {
   "hash": "3556a075bbd99350e89efd66c7151da1cf29c86598df2105d417c263a61f5267"
  },
  "kernelspec": {
   "display_name": "Python 3.10.4 ('venv-cursos')",
   "language": "python",
   "name": "python3"
  },
  "language_info": {
   "codemirror_mode": {
    "name": "ipython",
    "version": 3
   },
   "file_extension": ".py",
   "mimetype": "text/x-python",
   "name": "python",
   "nbconvert_exporter": "python",
   "pygments_lexer": "ipython3",
   "version": "3.10.4"
  },
  "orig_nbformat": 4
 },
 "nbformat": 4,
 "nbformat_minor": 2
}
