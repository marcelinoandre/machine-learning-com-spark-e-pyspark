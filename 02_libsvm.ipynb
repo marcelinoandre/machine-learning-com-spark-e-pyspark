{
 "cells": [
  {
   "cell_type": "code",
   "execution_count": 6,
   "metadata": {},
   "outputs": [
    {
     "data": {
      "text/html": [
       "\n",
       "            <div>\n",
       "                <p><b>SparkSession - in-memory</b></p>\n",
       "                \n",
       "        <div>\n",
       "            <p><b>SparkContext</b></p>\n",
       "\n",
       "            <p><a href=\"http://192.168.0.136:4040\">Spark UI</a></p>\n",
       "\n",
       "            <dl>\n",
       "              <dt>Version</dt>\n",
       "                <dd><code>v3.2.1</code></dd>\n",
       "              <dt>Master</dt>\n",
       "                <dd><code>local[*]</code></dd>\n",
       "              <dt>AppName</dt>\n",
       "                <dd><code>libsvm</code></dd>\n",
       "            </dl>\n",
       "        </div>\n",
       "        \n",
       "            </div>\n",
       "        "
      ],
      "text/plain": [
       "<pyspark.sql.session.SparkSession at 0x7fce9ee52dd0>"
      ]
     },
     "execution_count": 6,
     "metadata": {},
     "output_type": "execute_result"
    }
   ],
   "source": [
    "from pyspark.sql import SparkSession\n",
    "\n",
    "spark = (\n",
    "    SparkSession\n",
    "    .builder\n",
    "    .appName('libsvm')\n",
    "    .getOrCreate()\n",
    ")\n",
    "spark"
   ]
  },
  {
   "cell_type": "code",
   "execution_count": 10,
   "metadata": {},
   "outputs": [
    {
     "name": "stderr",
     "output_type": "stream",
     "text": [
      "22/05/16 23:46:39 WARN LibSVMFileFormat: 'numFeatures' option not specified, determining the number of features by going though the input. If you know the number in advance, please specify it via 'numFeatures' option to avoid the extra scan.\n"
     ]
    },
    {
     "name": "stdout",
     "output_type": "stream",
     "text": [
      "+-----+-------------------------------+\n",
      "|label|features                       |\n",
      "+-----+-------------------------------+\n",
      "|0.0  |(4,[0,2,3],[5.1,1.4,0.2])      |\n",
      "|0.0  |(4,[0,1,2,3],[4.9,3.0,1.4,0.2])|\n",
      "|0.0  |(4,[0,1,2,3],[4.7,3.2,1.3,0.2])|\n",
      "|0.0  |(4,[1,2,3],[3.1,1.5,0.2])      |\n",
      "|0.0  |(4,[0,1,2,3],[5.0,3.6,1.4,0.2])|\n",
      "|0.0  |(4,[0,1,2,3],[5.4,3.9,1.7,0.4])|\n",
      "|0.0  |(4,[0,1,2,3],[4.6,3.4,1.4,0.3])|\n",
      "|0.0  |(4,[0,1,2,3],[5.0,3.4,1.5,0.2])|\n",
      "|0.0  |(4,[0,1,2,3],[4.4,2.9,1.4,0.2])|\n",
      "|0.0  |(4,[3],[0.1])                  |\n",
      "+-----+-------------------------------+\n",
      "only showing top 10 rows\n",
      "\n"
     ]
    }
   ],
   "source": [
    "df_iris = (\n",
    "    spark.read.format('libsvm')\n",
    "    .option('numberFeatures', 4)\n",
    "    .load('data/iris_libsvm.txt')\n",
    ")\n",
    "\n",
    "df_iris.show(10, truncate=False)"
   ]
  },
  {
   "cell_type": "code",
   "execution_count": null,
   "metadata": {},
   "outputs": [],
   "source": []
  }
 ],
 "metadata": {
  "interpreter": {
   "hash": "3556a075bbd99350e89efd66c7151da1cf29c86598df2105d417c263a61f5267"
  },
  "kernelspec": {
   "display_name": "Python 3.10.4 ('venv-cursos')",
   "language": "python",
   "name": "python3"
  },
  "language_info": {
   "codemirror_mode": {
    "name": "ipython",
    "version": 3
   },
   "file_extension": ".py",
   "mimetype": "text/x-python",
   "name": "python",
   "nbconvert_exporter": "python",
   "pygments_lexer": "ipython3",
   "version": "3.10.4"
  },
  "orig_nbformat": 4
 },
 "nbformat": 4,
 "nbformat_minor": 2
}
