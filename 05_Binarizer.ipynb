{
 "cells": [
  {
   "cell_type": "markdown",
   "metadata": {},
   "source": [
    "## Binarizer\n",
    "- Notas (Parametro threshold)\n",
    "- <5 : Reprovado = 0\n",
    "- >5 : Aprovado = 1 \n",
    "\n",
    "Obs: O atributo transformado deve ser do tipo double"
   ]
  }
 ],
 "metadata": {
  "interpreter": {
   "hash": "3556a075bbd99350e89efd66c7151da1cf29c86598df2105d417c263a61f5267"
  },
  "kernelspec": {
   "display_name": "Python 3.10.4 ('venv-cursos')",
   "language": "python",
   "name": "python3"
  },
  "language_info": {
   "name": "python",
   "version": "3.10.4"
  },
  "orig_nbformat": 4
 },
 "nbformat": 4,
 "nbformat_minor": 2
}
