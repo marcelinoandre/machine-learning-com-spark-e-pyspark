{
 "cells": [
  {
   "cell_type": "markdown",
   "metadata": {},
   "source": [
    "## StringIndexer\n",
    "- Técnica de Categorical Encoding: transforma categorias em números\n",
    "- Itens mais frequentes recebem os números menores\n",
    "- Você cria um modelo com um conjunto de dados e usa este modelo para tanformar outros conjuntos de dados\n",
    "    - Rótulos não conhecidos encontrados são tradados pelo parâmetro haleInvalid, que pode ter os valores como:\n",
    "        - Execção (default): 'error'\n",
    "        - Omitir: 'skip'\n",
    "        - Colocar 'desconhecidos' em uma categoria especial: 'keep'"
   ]
  },
  {
   "cell_type": "code",
   "execution_count": 2,
   "metadata": {},
   "outputs": [
    {
     "data": {
      "text/html": [
       "\n",
       "            <div>\n",
       "                <p><b>SparkSession - in-memory</b></p>\n",
       "                \n",
       "        <div>\n",
       "            <p><b>SparkContext</b></p>\n",
       "\n",
       "            <p><a href=\"http://192.168.0.136:4041\">Spark UI</a></p>\n",
       "\n",
       "            <dl>\n",
       "              <dt>Version</dt>\n",
       "                <dd><code>v3.2.1</code></dd>\n",
       "              <dt>Master</dt>\n",
       "                <dd><code>local[*]</code></dd>\n",
       "              <dt>AppName</dt>\n",
       "                <dd><code>StringIndexer</code></dd>\n",
       "            </dl>\n",
       "        </div>\n",
       "        \n",
       "            </div>\n",
       "        "
      ],
      "text/plain": [
       "<pyspark.sql.session.SparkSession at 0x7f2769ff30d0>"
      ]
     },
     "execution_count": 2,
     "metadata": {},
     "output_type": "execute_result"
    }
   ],
   "source": [
    "from pyspark.sql import SparkSession\n",
    "\n",
    "from pyspark.ml.feature import StringIndexer\n",
    "\n",
    "\n",
    "spark = (\n",
    "    SparkSession\n",
    "    .builder\n",
    "    .appName('StringIndexer')\n",
    "    .getOrCreate()\n",
    ")\n",
    "\n",
    "spark"
   ]
  },
  {
   "cell_type": "code",
   "execution_count": 5,
   "metadata": {},
   "outputs": [
    {
     "name": "stdout",
     "output_type": "stream",
     "text": [
      "+-----------+---------+------+---+------+--------+-------------+---------+--------------+---------------+------+\n",
      "|CreditScore|Geography|Gender|Age|Tenure| Balance|NumOfProducts|HasCrCard|IsActiveMember|EstimatedSalary|Exited|\n",
      "+-----------+---------+------+---+------+--------+-------------+---------+--------------+---------------+------+\n",
      "|        619|   France|Female| 42|     2|       0|            1|        1|             1|       10134888|     1|\n",
      "|        608|    Spain|Female| 41|     1| 8380786|            1|        0|             1|       11254258|     0|\n",
      "|        502|   France|Female| 42|     8| 1596608|            3|        1|             0|       11393157|     1|\n",
      "|        699|   France|Female| 39|     1|       0|            2|        0|             0|        9382663|     0|\n",
      "|        850|    Spain|Female| 43|     2|12551082|            1|        1|             1|         790841|     0|\n",
      "+-----------+---------+------+---+------+--------+-------------+---------+--------------+---------------+------+\n",
      "only showing top 5 rows\n",
      "\n"
     ]
    }
   ],
   "source": [
    "df_churn = (\n",
    "    spark.read.format('csv')\n",
    "    .option('inferSchema', True)\n",
    "    .option('delimiter', ';')\n",
    "    .option('header', True)\n",
    "    .load('data/Churn.csv')\n",
    ")\n",
    "\n",
    "df_churn.show(5)"
   ]
  },
  {
   "cell_type": "code",
   "execution_count": 11,
   "metadata": {},
   "outputs": [
    {
     "name": "stdout",
     "output_type": "stream",
     "text": [
      "+-----------+---------+------+---+------+--------+-------------+---------+--------------+---------------+------+-------------+\n",
      "|CreditScore|Geography|Gender|Age|Tenure| Balance|NumOfProducts|HasCrCard|IsActiveMember|EstimatedSalary|Exited|Geography_idx|\n",
      "+-----------+---------+------+---+------+--------+-------------+---------+--------------+---------------+------+-------------+\n",
      "|        619|   France|Female| 42|     2|       0|            1|        1|             1|       10134888|     1|          0.0|\n",
      "|        608|    Spain|Female| 41|     1| 8380786|            1|        0|             1|       11254258|     0|          2.0|\n",
      "|        502|   France|Female| 42|     8| 1596608|            3|        1|             0|       11393157|     1|          0.0|\n",
      "|        699|   France|Female| 39|     1|       0|            2|        0|             0|        9382663|     0|          0.0|\n",
      "|        850|    Spain|Female| 43|     2|12551082|            1|        1|             1|         790841|     0|          2.0|\n",
      "|        645|    Spain|  Male| 44|     8|11375578|            2|        1|             0|       14975671|     1|          2.0|\n",
      "|        822|   France|  Male| 50|     7|       0|            2|        1|             1|         100628|     0|          0.0|\n",
      "|        376|  Germany|Female| 29|     4|11504674|            4|        1|             0|       11934688|     1|          1.0|\n",
      "|        501|   France|  Male| 44|     4|14205107|            2|        0|             1|         749405|     0|          0.0|\n",
      "|        684|   France|  Male| 27|     2|13460388|            1|        1|             1|        7172573|     0|          0.0|\n",
      "|        528|   France|  Male| 31|     6|10201672|            2|        0|             0|        8018112|     0|          0.0|\n",
      "|        497|    Spain|  Male| 24|     3|       0|            2|        1|             0|        7639001|     0|          2.0|\n",
      "|        476|   France|Female| 34|    10|       0|            2|        1|             0|        2626098|     0|          0.0|\n",
      "|        549|   France|Female| 25|     5|       0|            2|        0|             0|       19085779|     0|          0.0|\n",
      "|        635|    Spain|Female| 35|     7|       0|            2|        1|             1|        6595165|     0|          2.0|\n",
      "|        616|  Germany|  Male| 45|     3|14312941|            2|        0|             1|        6432726|     0|          1.0|\n",
      "|        653|  Germany|  Male| 58|     1|13260288|            1|        1|             0|         509767|     1|          1.0|\n",
      "|        549|    Spain|Female| 24|     9|       0|            2|        1|             1|        1440641|     0|          2.0|\n",
      "|        587|    Spain|  Male| 45|     6|       0|            1|        0|             0|       15868481|     0|          2.0|\n",
      "|        726|   France|Female| 24|     6|       0|            2|        1|             1|        5472403|     0|          0.0|\n",
      "+-----------+---------+------+---+------+--------+-------------+---------+--------------+---------------+------+-------------+\n",
      "only showing top 20 rows\n",
      "\n"
     ]
    }
   ],
   "source": [
    "indexer = StringIndexer(\n",
    "    inputCol='Geography',\n",
    "    outputCol='Geography_idx',\n",
    "    handleInvalid='keep'\n",
    ")\n",
    "\n",
    "model = indexer.fit(df_churn)\n",
    "\n",
    "df_churn_idx = model.transform(df_churn)\n",
    "df_churn_idx.showb()"
   ]
  },
  {
   "cell_type": "code",
   "execution_count": 26,
   "metadata": {},
   "outputs": [
    {
     "name": "stdout",
     "output_type": "stream",
     "text": [
      "+---------+-------------+\n",
      "|Geography|Geography_idx|\n",
      "+---------+-------------+\n",
      "|   France|          0.0|\n",
      "|   France|          0.0|\n",
      "|   France|          0.0|\n",
      "|   France|          0.0|\n",
      "|   France|          0.0|\n",
      "|   France|          0.0|\n",
      "|   France|          0.0|\n",
      "|   France|          0.0|\n",
      "|   France|          0.0|\n",
      "|   France|          0.0|\n",
      "|   France|          0.0|\n",
      "|   France|          0.0|\n",
      "|   France|          0.0|\n",
      "|   France|          0.0|\n",
      "|   France|          0.0|\n",
      "|   France|          0.0|\n",
      "|   France|          0.0|\n",
      "|   France|          0.0|\n",
      "|   France|          0.0|\n",
      "|   France|          0.0|\n",
      "|   France|          0.0|\n",
      "|   France|          0.0|\n",
      "|   France|          0.0|\n",
      "|   France|          0.0|\n",
      "|   France|          0.0|\n",
      "|   France|          0.0|\n",
      "|   France|          0.0|\n",
      "|   France|          0.0|\n",
      "|   France|          0.0|\n",
      "|   France|          0.0|\n",
      "|   France|          0.0|\n",
      "|   France|          0.0|\n",
      "|   France|          0.0|\n",
      "|   France|          0.0|\n",
      "|   France|          0.0|\n",
      "|   France|          0.0|\n",
      "|   France|          0.0|\n",
      "|   France|          0.0|\n",
      "|   France|          0.0|\n",
      "|   France|          0.0|\n",
      "|   France|          0.0|\n",
      "|   France|          0.0|\n",
      "|   France|          0.0|\n",
      "|   France|          0.0|\n",
      "|   France|          0.0|\n",
      "|   France|          0.0|\n",
      "|   France|          0.0|\n",
      "|   France|          0.0|\n",
      "|   France|          0.0|\n",
      "|   France|          0.0|\n",
      "+---------+-------------+\n",
      "only showing top 50 rows\n",
      "\n"
     ]
    }
   ],
   "source": [
    "df_churn_idx.select('Geography', 'Geography_idx').orderBy('Geography').show(50)"
   ]
  }
 ],
 "metadata": {
  "interpreter": {
   "hash": "3556a075bbd99350e89efd66c7151da1cf29c86598df2105d417c263a61f5267"
  },
  "kernelspec": {
   "display_name": "Python 3.10.4 ('venv-cursos')",
   "language": "python",
   "name": "python3"
  },
  "language_info": {
   "codemirror_mode": {
    "name": "ipython",
    "version": 3
   },
   "file_extension": ".py",
   "mimetype": "text/x-python",
   "name": "python",
   "nbconvert_exporter": "python",
   "pygments_lexer": "ipython3",
   "version": "3.10.4"
  },
  "orig_nbformat": 4
 },
 "nbformat": 4,
 "nbformat_minor": 2
}
