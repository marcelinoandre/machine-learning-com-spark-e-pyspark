{
 "cells": [
  {
   "cell_type": "markdown",
   "metadata": {},
   "source": [
    "## IndexToString\n",
    "- As vezes precisamos converter de volta um índice para a categoria\n",
    "    - explicar o modelo\n",
    "    - Mostrar valors 'reais'\n",
    "\n",
    "- IndexToString cria um atributo com a coluna original"
   ]
  },
  {
   "cell_type": "code",
   "execution_count": 1,
   "metadata": {},
   "outputs": [
    {
     "name": "stderr",
     "output_type": "stream",
     "text": [
      "22/05/17 15:29:34 WARN Utils: Your hostname, andre-UBUNTU20-04 resolves to a loopback address: 127.0.1.1; using 192.168.0.136 instead (on interface wlp2s0)\n",
      "22/05/17 15:29:34 WARN Utils: Set SPARK_LOCAL_IP if you need to bind to another address\n",
      "WARNING: An illegal reflective access operation has occurred\n",
      "WARNING: Illegal reflective access by org.apache.spark.unsafe.Platform (file:/home/andre/spark/jars/spark-unsafe_2.12-3.2.1.jar) to constructor java.nio.DirectByteBuffer(long,int)\n",
      "WARNING: Please consider reporting this to the maintainers of org.apache.spark.unsafe.Platform\n",
      "WARNING: Use --illegal-access=warn to enable warnings of further illegal reflective access operations\n",
      "WARNING: All illegal access operations will be denied in a future release\n",
      "Using Spark's default log4j profile: org/apache/spark/log4j-defaults.properties\n",
      "Setting default log level to \"WARN\".\n",
      "To adjust logging level use sc.setLogLevel(newLevel). For SparkR, use setLogLevel(newLevel).\n",
      "22/05/17 15:29:48 WARN NativeCodeLoader: Unable to load native-hadoop library for your platform... using builtin-java classes where applicable\n"
     ]
    },
    {
     "data": {
      "text/html": [
       "\n",
       "            <div>\n",
       "                <p><b>SparkSession - in-memory</b></p>\n",
       "                \n",
       "        <div>\n",
       "            <p><b>SparkContext</b></p>\n",
       "\n",
       "            <p><a href=\"http://192.168.0.136:4040\">Spark UI</a></p>\n",
       "\n",
       "            <dl>\n",
       "              <dt>Version</dt>\n",
       "                <dd><code>v3.2.1</code></dd>\n",
       "              <dt>Master</dt>\n",
       "                <dd><code>local[*]</code></dd>\n",
       "              <dt>AppName</dt>\n",
       "                <dd><code>IndexToString</code></dd>\n",
       "            </dl>\n",
       "        </div>\n",
       "        \n",
       "            </div>\n",
       "        "
      ],
      "text/plain": [
       "<pyspark.sql.session.SparkSession at 0x7fa7365ce7d0>"
      ]
     },
     "execution_count": 1,
     "metadata": {},
     "output_type": "execute_result"
    }
   ],
   "source": [
    "from pyspark.sql import SparkSession\n",
    "\n",
    "from pyspark.ml.feature import StringIndexer, IndexToString\n",
    "\n",
    "\n",
    "spark = (\n",
    "    SparkSession\n",
    "    .builder\n",
    "    .appName('IndexToString')\n",
    "    .getOrCreate()\n",
    ")\n",
    "\n",
    "spark"
   ]
  },
  {
   "cell_type": "code",
   "execution_count": 2,
   "metadata": {},
   "outputs": [
    {
     "name": "stderr",
     "output_type": "stream",
     "text": [
      "                                                                                \r"
     ]
    },
    {
     "name": "stdout",
     "output_type": "stream",
     "text": [
      "+-----------+---------+------+---+------+--------+-------------+---------+--------------+---------------+------+\n",
      "|CreditScore|Geography|Gender|Age|Tenure| Balance|NumOfProducts|HasCrCard|IsActiveMember|EstimatedSalary|Exited|\n",
      "+-----------+---------+------+---+------+--------+-------------+---------+--------------+---------------+------+\n",
      "|        619|   France|Female| 42|     2|       0|            1|        1|             1|       10134888|     1|\n",
      "|        608|    Spain|Female| 41|     1| 8380786|            1|        0|             1|       11254258|     0|\n",
      "|        502|   France|Female| 42|     8| 1596608|            3|        1|             0|       11393157|     1|\n",
      "|        699|   France|Female| 39|     1|       0|            2|        0|             0|        9382663|     0|\n",
      "|        850|    Spain|Female| 43|     2|12551082|            1|        1|             1|         790841|     0|\n",
      "+-----------+---------+------+---+------+--------+-------------+---------+--------------+---------------+------+\n",
      "only showing top 5 rows\n",
      "\n"
     ]
    }
   ],
   "source": [
    "df_churn = (\n",
    "    spark.read.format('csv')\n",
    "    .option('inferSchema', True)\n",
    "    .option('delimiter', ';')\n",
    "    .option('header', True)\n",
    "    .load('data/Churn.csv')\n",
    ")\n",
    "\n",
    "df_churn.show(5)"
   ]
  },
  {
   "cell_type": "code",
   "execution_count": 3,
   "metadata": {},
   "outputs": [
    {
     "name": "stderr",
     "output_type": "stream",
     "text": [
      "                                                                                \r"
     ]
    },
    {
     "name": "stdout",
     "output_type": "stream",
     "text": [
      "+-----------+---------+------+---+------+--------+-------------+---------+--------------+---------------+------+-------------+\n",
      "|CreditScore|Geography|Gender|Age|Tenure| Balance|NumOfProducts|HasCrCard|IsActiveMember|EstimatedSalary|Exited|Geography_idx|\n",
      "+-----------+---------+------+---+------+--------+-------------+---------+--------------+---------------+------+-------------+\n",
      "|        619|   France|Female| 42|     2|       0|            1|        1|             1|       10134888|     1|          0.0|\n",
      "|        608|    Spain|Female| 41|     1| 8380786|            1|        0|             1|       11254258|     0|          2.0|\n",
      "|        502|   France|Female| 42|     8| 1596608|            3|        1|             0|       11393157|     1|          0.0|\n",
      "|        699|   France|Female| 39|     1|       0|            2|        0|             0|        9382663|     0|          0.0|\n",
      "|        850|    Spain|Female| 43|     2|12551082|            1|        1|             1|         790841|     0|          2.0|\n",
      "+-----------+---------+------+---+------+--------+-------------+---------+--------------+---------------+------+-------------+\n",
      "only showing top 5 rows\n",
      "\n"
     ]
    }
   ],
   "source": [
    "indexer = StringIndexer(\n",
    "    inputCol='Geography',\n",
    "    outputCol='Geography_idx',\n",
    "    handleInvalid='keep'\n",
    ")\n",
    "\n",
    "model = indexer.fit(df_churn)\n",
    "\n",
    "df_churn_idx = model.transform(df_churn)\n",
    "df_churn_idx.show(5)"
   ]
  },
  {
   "cell_type": "code",
   "execution_count": 4,
   "metadata": {},
   "outputs": [
    {
     "name": "stdout",
     "output_type": "stream",
     "text": [
      "+---------+-------------+------------------+\n",
      "|Geography|Geography_idx|Categoria_Original|\n",
      "+---------+-------------+------------------+\n",
      "|   France|          0.0|            France|\n",
      "|    Spain|          2.0|             Spain|\n",
      "|   France|          0.0|            France|\n",
      "|   France|          0.0|            France|\n",
      "|    Spain|          2.0|             Spain|\n",
      "+---------+-------------+------------------+\n",
      "only showing top 5 rows\n",
      "\n"
     ]
    }
   ],
   "source": [
    "# Caminho inverso StringIndexer para IndexToString\n",
    "df_index_to_string = IndexToString(\n",
    "    inputCol='Geography_idx',\n",
    "    outputCol='Categoria_Original'\n",
    ").transform(df_churn_idx)\n",
    "\n",
    "df_index_to_string.select('Geography', 'Geography_idx', 'Categoria_Original').show(5)"
   ]
  },
  {
   "cell_type": "code",
   "execution_count": 5,
   "metadata": {},
   "outputs": [
    {
     "name": "stdout",
     "output_type": "stream",
     "text": [
      "+---------+-------------+\n",
      "|Geography|Geography_idx|\n",
      "+---------+-------------+\n",
      "|   France|          0.0|\n",
      "|   France|          0.0|\n",
      "|   France|          0.0|\n",
      "|   France|          0.0|\n",
      "|   France|          0.0|\n",
      "|   France|          0.0|\n",
      "|   France|          0.0|\n",
      "|   France|          0.0|\n",
      "|   France|          0.0|\n",
      "|   France|          0.0|\n",
      "|   France|          0.0|\n",
      "|   France|          0.0|\n",
      "|   France|          0.0|\n",
      "|   France|          0.0|\n",
      "|   France|          0.0|\n",
      "|   France|          0.0|\n",
      "|   France|          0.0|\n",
      "|   France|          0.0|\n",
      "|   France|          0.0|\n",
      "|   France|          0.0|\n",
      "|   France|          0.0|\n",
      "|   France|          0.0|\n",
      "|   France|          0.0|\n",
      "|   France|          0.0|\n",
      "|   France|          0.0|\n",
      "|   France|          0.0|\n",
      "|   France|          0.0|\n",
      "|   France|          0.0|\n",
      "|   France|          0.0|\n",
      "|   France|          0.0|\n",
      "|   France|          0.0|\n",
      "|   France|          0.0|\n",
      "|   France|          0.0|\n",
      "|   France|          0.0|\n",
      "|   France|          0.0|\n",
      "|   France|          0.0|\n",
      "|   France|          0.0|\n",
      "|   France|          0.0|\n",
      "|   France|          0.0|\n",
      "|   France|          0.0|\n",
      "|   France|          0.0|\n",
      "|   France|          0.0|\n",
      "|   France|          0.0|\n",
      "|   France|          0.0|\n",
      "|   France|          0.0|\n",
      "|   France|          0.0|\n",
      "|   France|          0.0|\n",
      "|   France|          0.0|\n",
      "|   France|          0.0|\n",
      "|   France|          0.0|\n",
      "+---------+-------------+\n",
      "only showing top 50 rows\n",
      "\n"
     ]
    }
   ],
   "source": [
    "df_churn_idx.select('Geography', 'Geography_idx').orderBy('Geography').show(50)"
   ]
  }
 ],
 "metadata": {
  "interpreter": {
   "hash": "3556a075bbd99350e89efd66c7151da1cf29c86598df2105d417c263a61f5267"
  },
  "kernelspec": {
   "display_name": "Python 3.10.4 ('venv-cursos')",
   "language": "python",
   "name": "python3"
  },
  "language_info": {
   "codemirror_mode": {
    "name": "ipython",
    "version": 3
   },
   "file_extension": ".py",
   "mimetype": "text/x-python",
   "name": "python",
   "nbconvert_exporter": "python",
   "pygments_lexer": "ipython3",
   "version": "3.10.4"
  },
  "orig_nbformat": 4
 },
 "nbformat": 4,
 "nbformat_minor": 2
}
