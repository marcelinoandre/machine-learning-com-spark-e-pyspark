{
 "cells": [
  {
   "cell_type": "markdown",
   "metadata": {},
   "source": [
    "## Engenharia de atributos e Pré-Processamento\n",
    "### VectorAssembler\n",
    "\n",
    "- Recebe como entrada um dataframe com diversos atributos \n",
    "- Produz como saída um único atributo, que é um vetor dos atributos de entrada"
   ]
  },
  {
   "cell_type": "code",
   "execution_count": 5,
   "metadata": {},
   "outputs": [
    {
     "data": {
      "text/html": [
       "\n",
       "            <div>\n",
       "                <p><b>SparkSession - in-memory</b></p>\n",
       "                \n",
       "        <div>\n",
       "            <p><b>SparkContext</b></p>\n",
       "\n",
       "            <p><a href=\"http://192.168.0.136:4041\">Spark UI</a></p>\n",
       "\n",
       "            <dl>\n",
       "              <dt>Version</dt>\n",
       "                <dd><code>v3.2.1</code></dd>\n",
       "              <dt>Master</dt>\n",
       "                <dd><code>local[*]</code></dd>\n",
       "              <dt>AppName</dt>\n",
       "                <dd><code>vector_assembler</code></dd>\n",
       "            </dl>\n",
       "        </div>\n",
       "        \n",
       "            </div>\n",
       "        "
      ],
      "text/plain": [
       "<pyspark.sql.session.SparkSession at 0x7fcde1342dd0>"
      ]
     },
     "execution_count": 5,
     "metadata": {},
     "output_type": "execute_result"
    }
   ],
   "source": [
    "from pyspark.sql import SparkSession \n",
    "\n",
    "from pyspark.ml.feature import VectorAssembler\n",
    "\n",
    "spark = (\n",
    "    SparkSession\n",
    "    .builder\n",
    "    .appName('vector_assembler')\n",
    "    .getOrCreate()\n",
    ")\n",
    "spark"
   ]
  },
  {
   "cell_type": "code",
   "execution_count": 11,
   "metadata": {},
   "outputs": [
    {
     "name": "stdout",
     "output_type": "stream",
     "text": [
      "+-------+---------+-----------+---------------+----+-----+---------+-----------+-------+-----------+---+\n",
      "|Consumo|Cilindros|Cilindradas|RelEixoTraseiro|Peso|Tempo|TipoMotor|Transmissao|Marchas|Carburadors| HP|\n",
      "+-------+---------+-----------+---------------+----+-----+---------+-----------+-------+-----------+---+\n",
      "|     21|        6|        160|             39| 262| 1646|        0|          1|      4|          4|110|\n",
      "|     21|        6|        160|             39|2875| 1702|        0|          1|      4|          4|110|\n",
      "|    228|        4|        108|            385| 232| 1861|        1|          1|      4|          1| 93|\n",
      "|    214|        6|        258|            308|3215| 1944|        1|          0|      3|          1|110|\n",
      "|    187|        8|        360|            315| 344| 1702|        0|          0|      3|          2|175|\n",
      "+-------+---------+-----------+---------------+----+-----+---------+-----------+-------+-----------+---+\n",
      "only showing top 5 rows\n",
      "\n",
      "root\n",
      " |-- Consumo: integer (nullable = true)\n",
      " |-- Cilindros: integer (nullable = true)\n",
      " |-- Cilindradas: integer (nullable = true)\n",
      " |-- RelEixoTraseiro: integer (nullable = true)\n",
      " |-- Peso: integer (nullable = true)\n",
      " |-- Tempo: integer (nullable = true)\n",
      " |-- TipoMotor: integer (nullable = true)\n",
      " |-- Transmissao: integer (nullable = true)\n",
      " |-- Marchas: integer (nullable = true)\n",
      " |-- Carburadors: integer (nullable = true)\n",
      " |-- HP: integer (nullable = true)\n",
      "\n"
     ]
    }
   ],
   "source": [
    "df_cars = (\n",
    "    spark.read\n",
    "    .format('csv')\n",
    "    .option('delimiter', ';')\n",
    "    .option('header', True)\n",
    "    .option('inferSchema', True)\n",
    "    .load('data/Carros.csv')\n",
    ")\n",
    "\n",
    "df_cars.show(5)\n",
    "\n",
    "df_cars.printSchema()"
   ]
  },
  {
   "cell_type": "code",
   "execution_count": 19,
   "metadata": {},
   "outputs": [
    {
     "name": "stdout",
     "output_type": "stream",
     "text": [
      "+-------+---------+-----------+---------------+----+-----+---------+-----------+-------+-----------+---+-----------------------------------------------------+\n",
      "|Consumo|Cilindros|Cilindradas|RelEixoTraseiro|Peso|Tempo|TipoMotor|Transmissao|Marchas|Carburadors|HP |features                                             |\n",
      "+-------+---------+-----------+---------------+----+-----+---------+-----------+-------+-----------+---+-----------------------------------------------------+\n",
      "|21     |6        |160        |39             |262 |1646 |0        |1          |4      |4          |110|[21.0,6.0,160.0,39.0,262.0,1646.0,0.0,1.0,4.0,4.0]   |\n",
      "|21     |6        |160        |39             |2875|1702 |0        |1          |4      |4          |110|[21.0,6.0,160.0,39.0,2875.0,1702.0,0.0,1.0,4.0,4.0]  |\n",
      "|228    |4        |108        |385            |232 |1861 |1        |1          |4      |1          |93 |[228.0,4.0,108.0,385.0,232.0,1861.0,1.0,1.0,4.0,1.0] |\n",
      "|214    |6        |258        |308            |3215|1944 |1        |0          |3      |1          |110|[214.0,6.0,258.0,308.0,3215.0,1944.0,1.0,0.0,3.0,1.0]|\n",
      "|187    |8        |360        |315            |344 |1702 |0        |0          |3      |2          |175|[187.0,8.0,360.0,315.0,344.0,1702.0,0.0,0.0,3.0,2.0] |\n",
      "|181    |6        |225        |276            |346 |2022 |1        |0          |3      |1          |105|[181.0,6.0,225.0,276.0,346.0,2022.0,1.0,0.0,3.0,1.0] |\n",
      "|143    |8        |360        |321            |357 |1584 |0        |0          |3      |4          |245|[143.0,8.0,360.0,321.0,357.0,1584.0,0.0,0.0,3.0,4.0] |\n",
      "|244    |4        |1467       |369            |319 |20   |1        |0          |4      |2          |62 |[244.0,4.0,1467.0,369.0,319.0,20.0,1.0,0.0,4.0,2.0]  |\n",
      "|228    |4        |1408       |392            |315 |229  |1        |0          |4      |2          |95 |[228.0,4.0,1408.0,392.0,315.0,229.0,1.0,0.0,4.0,2.0] |\n",
      "|192    |6        |1676       |392            |344 |183  |1        |0          |4      |4          |123|[192.0,6.0,1676.0,392.0,344.0,183.0,1.0,0.0,4.0,4.0] |\n",
      "|178    |6        |1676       |392            |344 |189  |1        |0          |4      |4          |123|[178.0,6.0,1676.0,392.0,344.0,189.0,1.0,0.0,4.0,4.0] |\n",
      "|164    |8        |2758       |307            |407 |174  |0        |0          |3      |3          |180|[164.0,8.0,2758.0,307.0,407.0,174.0,0.0,0.0,3.0,3.0] |\n",
      "|173    |8        |2758       |307            |373 |176  |0        |0          |3      |3          |180|[173.0,8.0,2758.0,307.0,373.0,176.0,0.0,0.0,3.0,3.0] |\n",
      "|152    |8        |2758       |307            |378 |18   |0        |0          |3      |3          |180|[152.0,8.0,2758.0,307.0,378.0,18.0,0.0,0.0,3.0,3.0]  |\n",
      "|104    |8        |472        |293            |525 |1798 |0        |0          |3      |4          |205|[104.0,8.0,472.0,293.0,525.0,1798.0,0.0,0.0,3.0,4.0] |\n",
      "|104    |8        |460        |3              |5424|1782 |0        |0          |3      |4          |215|[104.0,8.0,460.0,3.0,5424.0,1782.0,0.0,0.0,3.0,4.0]  |\n",
      "|147    |8        |440        |323            |5345|1742 |0        |0          |3      |4          |230|[147.0,8.0,440.0,323.0,5345.0,1742.0,0.0,0.0,3.0,4.0]|\n",
      "|324    |4        |787        |408            |22  |1947 |1        |1          |4      |1          |66 |[324.0,4.0,787.0,408.0,22.0,1947.0,1.0,1.0,4.0,1.0]  |\n",
      "|304    |4        |757        |493            |1615|1852 |1        |1          |4      |2          |52 |[304.0,4.0,757.0,493.0,1615.0,1852.0,1.0,1.0,4.0,2.0]|\n",
      "|339    |4        |711        |422            |1835|199  |1        |1          |4      |1          |65 |[339.0,4.0,711.0,422.0,1835.0,199.0,1.0,1.0,4.0,1.0] |\n",
      "+-------+---------+-----------+---------------+----+-----+---------+-----------+-------+-----------+---+-----------------------------------------------------+\n",
      "only showing top 20 rows\n",
      "\n"
     ]
    }
   ],
   "source": [
    "df_cars_assembler = VectorAssembler(\n",
    "    inputCols = df_cars.columns[:-1],\n",
    "    outputCol='features'\n",
    ").transform(df_cars)\n",
    "\n",
    "df_cars_assembler.show(truncate = False)"
   ]
  }
 ],
 "metadata": {
  "interpreter": {
   "hash": "3556a075bbd99350e89efd66c7151da1cf29c86598df2105d417c263a61f5267"
  },
  "kernelspec": {
   "display_name": "Python 3.10.4 ('venv-cursos')",
   "language": "python",
   "name": "python3"
  },
  "language_info": {
   "codemirror_mode": {
    "name": "ipython",
    "version": 3
   },
   "file_extension": ".py",
   "mimetype": "text/x-python",
   "name": "python",
   "nbconvert_exporter": "python",
   "pygments_lexer": "ipython3",
   "version": "3.10.4"
  },
  "orig_nbformat": 4
 },
 "nbformat": 4,
 "nbformat_minor": 2
}
