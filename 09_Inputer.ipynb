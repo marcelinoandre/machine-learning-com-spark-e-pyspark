{
 "cells": [
  {
   "cell_type": "markdown",
   "metadata": {},
   "source": [
    "## Imputer:\n",
    "- Substitui valores ausentes\n",
    "- Usa uma estratégia de substituição: média, mediana ou moda\n",
    "- Pode ainda substituir qualquer outro valor (por exemplo, zero) usando parâmetro setMissingValue\n",
    "\n",
    "Valor default \n"
   ]
  },
  {
   "cell_type": "code",
   "execution_count": 2,
   "metadata": {},
   "outputs": [
    {
     "data": {
      "text/html": [
       "\n",
       "            <div>\n",
       "                <p><b>SparkSession - in-memory</b></p>\n",
       "                \n",
       "        <div>\n",
       "            <p><b>SparkContext</b></p>\n",
       "\n",
       "            <p><a href=\"http://192.168.0.136:4040\">Spark UI</a></p>\n",
       "\n",
       "            <dl>\n",
       "              <dt>Version</dt>\n",
       "                <dd><code>v3.2.1</code></dd>\n",
       "              <dt>Master</dt>\n",
       "                <dd><code>local[*]</code></dd>\n",
       "              <dt>AppName</dt>\n",
       "                <dd><code>OneHotEncoding</code></dd>\n",
       "            </dl>\n",
       "        </div>\n",
       "        \n",
       "            </div>\n",
       "        "
      ],
      "text/plain": [
       "<pyspark.sql.session.SparkSession at 0x7fb9780e6950>"
      ]
     },
     "execution_count": 2,
     "metadata": {},
     "output_type": "execute_result"
    }
   ],
   "source": [
    "from pyspark.sql import SparkSession\n",
    "\n",
    "from pyspark.ml.feature import Imputer\n",
    "\n",
    "spark = (\n",
    "    SparkSession\n",
    "    .builder\n",
    "    .appName('OneHotEncoding')\n",
    "    .getOrCreate()\n",
    ")\n",
    "spark"
   ]
  },
  {
   "cell_type": "code",
   "execution_count": 3,
   "metadata": {},
   "outputs": [
    {
     "name": "stderr",
     "output_type": "stream",
     "text": [
      "                                                                                \r"
     ]
    },
    {
     "name": "stdout",
     "output_type": "stream",
     "text": [
      "+-------+---------+-----------+---------------+----+-----+---------+-----------+-------+-----------+---+\n",
      "|Consumo|Cilindros|Cilindradas|RelEixoTraseiro|Peso|Tempo|TipoMotor|Transmissao|Marchas|Carburadors| HP|\n",
      "+-------+---------+-----------+---------------+----+-----+---------+-----------+-------+-----------+---+\n",
      "|     21|        6|        160|             39| 262| 1646|        0|          1|      4|          4|110|\n",
      "|     21|        6|       null|             39|2875| null|        0|          1|      4|          4|110|\n",
      "|    228|        0|        108|            385| 232| 1861|        1|          1|      4|          1| 93|\n",
      "|    214|        0|       null|            308|3215| 1944|        1|          0|      3|          1|110|\n",
      "|    187|        0|        360|            315|null| 1702|        0|          0|      3|          2|175|\n",
      "+-------+---------+-----------+---------------+----+-----+---------+-----------+-------+-----------+---+\n",
      "only showing top 5 rows\n",
      "\n"
     ]
    }
   ],
   "source": [
    "df_cars = (\n",
    "    spark.read.format('csv')\n",
    "    .option('inferSchema', True)\n",
    "    .option('delimiter', ';')\n",
    "    .option('header', True)\n",
    "    .load('data/CarrosNAN.csv')\n",
    ")\n",
    "\n",
    "df_cars.show(5)"
   ]
  },
  {
   "cell_type": "code",
   "execution_count": 4,
   "metadata": {},
   "outputs": [
    {
     "name": "stdout",
     "output_type": "stream",
     "text": [
      "root\n",
      " |-- Consumo: integer (nullable = true)\n",
      " |-- Cilindros: integer (nullable = true)\n",
      " |-- Cilindradas: integer (nullable = true)\n",
      " |-- RelEixoTraseiro: integer (nullable = true)\n",
      " |-- Peso: integer (nullable = true)\n",
      " |-- Tempo: integer (nullable = true)\n",
      " |-- TipoMotor: integer (nullable = true)\n",
      " |-- Transmissao: integer (nullable = true)\n",
      " |-- Marchas: integer (nullable = true)\n",
      " |-- Carburadors: integer (nullable = true)\n",
      " |-- HP: integer (nullable = true)\n",
      "\n"
     ]
    },
    {
     "data": {
      "text/plain": [
       "32"
      ]
     },
     "execution_count": 4,
     "metadata": {},
     "output_type": "execute_result"
    }
   ],
   "source": [
    "df_cars.printSchema()\n",
    "df_cars.count()\n"
   ]
  },
  {
   "cell_type": "code",
   "execution_count": 7,
   "metadata": {},
   "outputs": [
    {
     "name": "stdout",
     "output_type": "stream",
     "text": [
      "+-----------+----+-------------------+------------+\n",
      "|Cilindradas|Peso|Cilindradas_cleaned|Peso_cleaned|\n",
      "+-----------+----+-------------------+------------+\n",
      "|        160| 262|                160|         262|\n",
      "|       null|2875|                848|        2875|\n",
      "|        108| 232|                108|         232|\n",
      "|       null|3215|                848|        3215|\n",
      "|        360|null|                360|        1318|\n",
      "+-----------+----+-------------------+------------+\n",
      "only showing top 5 rows\n",
      "\n"
     ]
    }
   ],
   "source": [
    "_df_cars_input = Imputer(\n",
    "    inputCols=['Cilindradas', 'Peso'],\n",
    "    outputCols=['Cilindradas_cleaned', 'Peso_cleaned'],\n",
    ").fit(df_cars).transform(df_cars)\n",
    "\n",
    "_df_cars_input.select('Cilindradas', 'Peso', 'Cilindradas_cleaned', 'Peso_cleaned').show(5)"
   ]
  },
  {
   "cell_type": "code",
   "execution_count": 10,
   "metadata": {},
   "outputs": [
    {
     "name": "stdout",
     "output_type": "stream",
     "text": [
      "+---------+-----------------+\n",
      "|Cilindros|Cilindros_cleaned|\n",
      "+---------+-----------------+\n",
      "|        6|                6|\n",
      "|        6|                6|\n",
      "|        0|                6|\n",
      "|        0|                6|\n",
      "|        0|                6|\n",
      "|        6|                6|\n",
      "|        8|                8|\n",
      "|        4|                4|\n",
      "|        4|                4|\n",
      "|        0|                6|\n",
      "|        6|                6|\n",
      "|        8|                8|\n",
      "|        8|                8|\n",
      "|        8|                8|\n",
      "|        8|                8|\n",
      "|        8|                8|\n",
      "|        8|                8|\n",
      "|        4|                4|\n",
      "|        4|                4|\n",
      "|        4|                4|\n",
      "+---------+-----------------+\n",
      "only showing top 20 rows\n",
      "\n"
     ]
    }
   ],
   "source": [
    "_df_cars_input = Imputer(\n",
    "    inputCol='Cilindros',\n",
    "    outputCol='Cilindros_cleaned',\n",
    "    strategy='median',\n",
    "    missingValue=0\n",
    ").fit(df_cars).transform(df_cars).select('Cilindros', 'Cilindros_cleaned').show()"
   ]
  }
 ],
 "metadata": {
  "interpreter": {
   "hash": "3556a075bbd99350e89efd66c7151da1cf29c86598df2105d417c263a61f5267"
  },
  "kernelspec": {
   "display_name": "Python 3.10.4 ('venv-cursos')",
   "language": "python",
   "name": "python3"
  },
  "language_info": {
   "codemirror_mode": {
    "name": "ipython",
    "version": 3
   },
   "file_extension": ".py",
   "mimetype": "text/x-python",
   "name": "python",
   "nbconvert_exporter": "python",
   "pygments_lexer": "ipython3",
   "version": "3.10.4"
  },
  "orig_nbformat": 4
 },
 "nbformat": 4,
 "nbformat_minor": 2
}
